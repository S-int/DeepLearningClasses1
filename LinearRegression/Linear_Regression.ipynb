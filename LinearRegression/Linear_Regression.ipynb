{
 "cells": [
  {
   "cell_type": "markdown",
   "metadata": {
    "colab_type": "text",
    "id": "vUea9QfT4Ojf"
   },
   "source": [
    "<center>\n",
    "<h1>Linear regression introduction</h1>\n",
    "<h2>\n",
    "Deep learning classes<br>\n",
    "</h2>\n",
    "<h3>\n",
    "This is a graded assignment<br>\n",
    "</h3>\n",
    "</center>"
   ]
  },
  {
   "cell_type": "markdown",
   "metadata": {
    "colab_type": "text",
    "id": "esBGVzPK4Oji"
   },
   "source": [
    "### Basic information\n",
    "<ul>\n",
    "    <li>This task is build of:\n",
    "    <ul>\n",
    "        <li>Descriptions (in the Markdown cells)\n",
    "        <li>Already prepared fragments of code\n",
    "        <li>The placeholders for your code\n",
    "    </ul>\n",
    "    <li>Your code should be entered in the `Code` cells. The places are marked by <b># ENTER YOUR CODE HERE</b> note.\n",
    "    <li>Usually you should enter only a few lines of code. But if you think you need it, you may use as many lines and add as many new code cells as you wish.\n",
    "    <li>You should solve the assignment in the defined order. It is often impossible to solve the next task, if you did not sove the previous one.\n",
    "    <li>This assignment is graded. \n",
    "    <li>During the grading you may expect some questions. <b>Sending the code to the teacher is not sufficient for passing.</b>\n",
    "</ul>"
   ]
  },
  {
   "cell_type": "markdown",
   "metadata": {
    "colab_type": "text",
    "id": "XoYOOOqY4Ojn"
   },
   "source": [
    "Here we import all the necessary libraries, and set some initial parameters."
   ]
  },
  {
   "cell_type": "code",
   "execution_count": 2,
   "metadata": {
    "colab": {
     "base_uri": "https://localhost:8080/",
     "height": 219
    },
    "colab_type": "code",
    "executionInfo": {
     "elapsed": 4109,
     "status": "ok",
     "timestamp": 1585495312110,
     "user": {
      "displayName": "",
      "photoUrl": "",
      "userId": ""
     },
     "user_tz": -120
    },
    "id": "iyjWACOm4Ojs",
    "outputId": "238bbee0-5c04-4d66-9f0b-627c5e436ca3"
   },
   "outputs": [
    {
     "name": "stdout",
     "output_type": "stream",
     "text": [
      "--2020-03-29 15:21:52--  https://raw.githubusercontent.com/PrzemekSekula/DeepLearningClasses1/master/LinearRegression/helper_linear_regression.py\n",
      "Resolving raw.githubusercontent.com (raw.githubusercontent.com)... 151.101.0.133, 151.101.64.133, 151.101.128.133, ...\n",
      "Connecting to raw.githubusercontent.com (raw.githubusercontent.com)|151.101.0.133|:443... connected.\n",
      "HTTP request sent, awaiting response... 200 OK\n",
      "Length: 3936 (3.8K) [text/plain]\n",
      "Saving to: ‘helper_linear_regression.py’\n",
      "\n",
      "\r",
      "          helper_li   0%[                    ]       0  --.-KB/s               \r",
      "helper_linear_regre 100%[===================>]   3.84K  --.-KB/s    in 0s      \n",
      "\n",
      "2020-03-29 15:21:52 (89.7 MB/s) - ‘helper_linear_regression.py’ saved [3936/3936]\n",
      "\n"
     ]
    }
   ],
   "source": [
    "# The line below downloads the helper from github repository. \n",
    "# Uncomment it, if you are opening the notebook in Google Colab directly from the GitHub\n",
    "\n",
    "!wget https://raw.githubusercontent.com/PrzemekSekula/DeepLearningClasses1/master/LinearRegression/helper_linear_regression.py"
   ]
  },
  {
   "cell_type": "code",
   "execution_count": 0,
   "metadata": {
    "colab": {},
    "colab_type": "code",
    "id": "o8U0zusF4OkC"
   },
   "outputs": [],
   "source": [
    "import numpy as np\n",
    "import matplotlib.pyplot as plt\n",
    "import helper_linear_regression as hlp\n",
    "\n",
    "%matplotlib inline"
   ]
  },
  {
   "cell_type": "markdown",
   "metadata": {
    "colab_type": "text",
    "id": "AMro9ve54Ok1"
   },
   "source": [
    "The cell below is used for generating the data."
   ]
  },
  {
   "cell_type": "code",
   "execution_count": 4,
   "metadata": {
    "colab": {
     "base_uri": "https://localhost:8080/",
     "height": 295
    },
    "colab_type": "code",
    "executionInfo": {
     "elapsed": 880,
     "status": "ok",
     "timestamp": 1585495333444,
     "user": {
      "displayName": "",
      "photoUrl": "",
      "userId": ""
     },
     "user_tz": -120
    },
    "id": "gqZI6LNm4Ok4",
    "outputId": "96e60022-e653-4533-f2e9-6d3b5ca48427"
   },
   "outputs": [
    {
     "data": {
      "image/png": "[encoded data removed]",
      "text/plain": [
       "<Figure size 432x288 with 1 Axes>"
      ]
     },
     "metadata": {
      "tags": []
     },
     "output_type": "display_data"
    }
   ],
   "source": [
    "# The line below assures that the random function will return the same values every time\n",
    "np.random.seed(12)\n",
    "\n",
    "coefs = [50, 25, -1.25, 0.01]\n",
    "datalength = 80\n",
    "noise = 0.2\n",
    "\n",
    "x, y = hlp.getXY(coefs, datalength, noise)\n",
    "\n",
    "f = plt.figure()\n",
    "plt.scatter(x, y)\n",
    "plt.title('Your dataset')\n",
    "plt.xlabel('X (inputs)')\n",
    "plt.ylabel('Y (labels / targets)');\n",
    "plt.show()"
   ]
  },
  {
   "cell_type": "markdown",
   "metadata": {
    "colab_type": "text",
    "id": "fAGDdaY04OlF"
   },
   "source": [
    "### Task 1\n",
    "Let's assume that your function is linear ($y = \\Theta_0 + \\Theta_1*x$). Try to select the $\\Theta_0$ i  $\\Theta_1$ manually in order to create your model. Use the code below for visualizing results.\n",
    "\n",
    "*Note: This task is not about machine learning. You should just select the parameters manually, in order to get a good intuition. The parateres should be \"quite good\", but they do not have to be perfect.* "
   ]
  },
  {
   "cell_type": "code",
   "execution_count": 14,
   "metadata": {
    "colab": {
     "base_uri": "https://localhost:8080/",
     "height": 295
    },
    "colab_type": "code",
    "executionInfo": {
     "elapsed": 894,
     "status": "ok",
     "timestamp": 1585495475960,
     "user": {
      "displayName": "",
      "photoUrl": "",
      "userId": ""
     },
     "user_tz": -120
    },
    "id": "U_ELplFD4OlH",
    "outputId": "30966ae6-56ff-40e4-abef-fc0b59cf7db4"
   },
   "outputs": [
    {
     "data": {
      "image/png": "[encoded data removed]",
      "text/plain": [
       "<Figure size 432x288 with 1 Axes>"
      ]
     },
     "metadata": {
      "tags": []
     },
     "output_type": "display_data"
    }
   ],
   "source": [
    "my_th0 = 400 # ENTER YOUR CODE HERE (tune this parameter)\n",
    "my_th1 = -18 # ENTER YOUR CODE HERE (tune this parameter)\n",
    "\n",
    "hlp.plot_fitting_lin(x, y, my_th0, my_th1);"
   ]
  },
  {
   "cell_type": "markdown",
   "metadata": {
    "colab_type": "text",
    "id": "fSBIsOFK4OlU"
   },
   "source": [
    "### Task 2  - Hypothesis\n",
    "Prepare the function, which can compute the progosed values $h(x)$ according to the formula:\n",
    "\n",
    "<center>\n",
    "$h(x)  = \\Theta_0 + \\Theta_1 * x$\n",
    "</center>\n",
    "\n",
    "Function arguments:\n",
    "<li>x - input data (vector0\n",
    "<li>th0 - $\\Theta_0$\n",
    "<li>th1 - $\\Theta_1$\n",
    "<br \\>\n",
    "Function returns:\n",
    "<li>h - vector of values computed with the formula above."
   ]
  },
  {
   "cell_type": "code",
   "execution_count": 0,
   "metadata": {
    "colab": {},
    "colab_type": "code",
    "id": "VGoKE8W34OlW"
   },
   "outputs": [],
   "source": [
    "def compute_h(x, th0, th1):\n",
    "    x = np.asarray(x) # It removes problems with older version of libraries\n",
    "    \n",
    "    # ENTER YOUR CODE HERE\n",
    "\n",
    "    h = th0 + th1 * x\n",
    "    \n",
    "    # END OF YOUR CODE\n",
    "    return h"
   ]
  },
  {
   "cell_type": "markdown",
   "metadata": {
    "colab_type": "text",
    "id": "yIap9K2n4Olk"
   },
   "source": [
    "#### Task 2 - test code\n",
    "You may use the code below, to test your output. The correct results are:<br>\n",
    "[200 185 170 155 140 125 110  95  80  65]"
   ]
  },
  {
   "cell_type": "code",
   "execution_count": 16,
   "metadata": {
    "colab": {
     "base_uri": "https://localhost:8080/",
     "height": 54
    },
    "colab_type": "code",
    "executionInfo": {
     "elapsed": 757,
     "status": "ok",
     "timestamp": 1585495531453,
     "user": {
      "displayName": "",
      "photoUrl": "",
      "userId": ""
     },
     "user_tz": -120
    },
    "id": "ZJWU0QnV4Oll",
    "outputId": "1d5e0401-ba98-40e1-edd8-03cc800cc60d"
   },
   "outputs": [
    {
     "name": "stdout",
     "output_type": "stream",
     "text": [
      "Testing results:  [200 185 170 155 140 125 110  95  80  65]\n",
      "Your code seems to be OK!\n"
     ]
    }
   ],
   "source": [
    "hlp.testcomputeh(compute_h)"
   ]
  },
  {
   "cell_type": "markdown",
   "metadata": {
    "colab_type": "text",
    "id": "lSD1tIAU4Olw"
   },
   "source": [
    "### Task 3 - Cost function\n",
    "Prepare the function, which computes the cost, according to the formula:\n",
    "<br /><br />\n",
    "<center>\n",
    "$J = \\frac{1}{2m}\\sum_{i=1}^{m}{(y_i - h(x_i))}^2$\n",
    "</center>\n",
    "\n",
    "Where:\n",
    "\n",
    "<li>$J$ - cost\n",
    "<li>$y$ - real $y$ values\n",
    "<li>$y_{pred}$ - predicted $y$ values\n",
    "<li>$m$ - length of the $y$ vector (number of observations)\n",
    "\n",
    "Arguments:\n",
    "\n",
    "<li>y - vector with real y values\n",
    "<li>h - vector with predicted y values ($h(x)$)\n",
    "\n",
    "Function returns:\n",
    "\n",
    "<li> c - cost computed with the given formula.\n",
    "    \n",
    "    \n",
    "*Note: You may compute the mean value of the vector by using: np.mean() function.\n",
    "Example:*\n",
    "<code>\n",
    "X = [1, 2, 3]\n",
    "print (np.mean(X))\n",
    "2\n",
    "</code>"
   ]
  },
  {
   "cell_type": "code",
   "execution_count": 0,
   "metadata": {
    "colab": {},
    "colab_type": "code",
    "id": "SCUoqf374Olz"
   },
   "outputs": [],
   "source": [
    "def cost(y, ypred):\n",
    "    y = np.asarray(y) # It removes problems with older version of libraries\n",
    "    ypred = np.asarray(ypred) # It removes problems with older version of libraries\n",
    "    \n",
    "    #ENTER YOUR CODE HERE\n",
    "    c= np.mean(np.subtract(y,ypred)**2)/2\n",
    "    # END OF YOUR CODE\n",
    "    return c"
   ]
  },
  {
   "cell_type": "markdown",
   "metadata": {
    "colab_type": "text",
    "id": "vExYzwy04Ol9"
   },
   "source": [
    "#### Task 4 - test code\n",
    "You may test your `cost` function with the code below. If everything is OK, the output will be:<br>\n",
    "**Your code seems to be OK!**"
   ]
  },
  {
   "cell_type": "code",
   "execution_count": 60,
   "metadata": {
    "colab": {
     "base_uri": "https://localhost:8080/",
     "height": 35
    },
    "colab_type": "code",
    "executionInfo": {
     "elapsed": 812,
     "status": "ok",
     "timestamp": 1585499340176,
     "user": {
      "displayName": "",
      "photoUrl": "",
      "userId": ""
     },
     "user_tz": -120
    },
    "id": "ur7SUgyt4OmB",
    "outputId": "66d183e9-29dc-421e-a940-e19948cfc04a"
   },
   "outputs": [
    {
     "name": "stdout",
     "output_type": "stream",
     "text": [
      "Your code seems to be OK!\n"
     ]
    }
   ],
   "source": [
    "hlp.testcost(cost)"
   ]
  },
  {
   "cell_type": "markdown",
   "metadata": {
    "colab_type": "text",
    "id": "g5XBKtcS4OmL"
   },
   "source": [
    "### Task 4 - Computing cost\n",
    "Using the parameters $\\Theta_0$ i $\\Theta_1$ selected in the task 1 compute and display the hypothesis and the cost value.\n",
    "\n",
    "*Note 1: Your parameters are stored in `my_th0` and `my_th1` variables.*<br>\n",
    "*Note 1: You may use your `compute_h` function for computing hypothesis, and `cost` function for computing cost*<br>\n"
   ]
  },
  {
   "cell_type": "code",
   "execution_count": 62,
   "metadata": {
    "colab": {
     "base_uri": "https://localhost:8080/",
     "height": 35
    },
    "colab_type": "code",
    "executionInfo": {
     "elapsed": 1035,
     "status": "ok",
     "timestamp": 1585499432328,
     "user": {
      "displayName": "",
      "photoUrl": "",
      "userId": ""
     },
     "user_tz": -120
    },
    "id": "L_tgxeDZ4OmO",
    "outputId": "17064e4e-2b94-4bab-e3cb-a7b16210cfea"
   },
   "outputs": [
    {
     "name": "stdout",
     "output_type": "stream",
     "text": [
      "15178.911666503176\n"
     ]
    }
   ],
   "source": [
    "h = compute_h(x, my_th0, my_th1) # ENTER YOUR CODE HERE\n",
    "mycost = cost(y,h)  # ENTER YOUR CODE HERE\n",
    "print (mycost)"
   ]
  },
  {
   "cell_type": "markdown",
   "metadata": {
    "colab_type": "text",
    "id": "CWUBKwsO4Oma"
   },
   "source": [
    "### Task 5 - partial derivatives\n",
    "Prepare the function `compute_derivatives`, which returns the partial derivatives $\\frac{\\delta}{\\delta\\Theta_0}J(\\Theta_0, \\Theta_1)$ and $\\frac{\\delta}{\\delta\\Theta_0}J(\\Theta_0, \\Theta_1)$ where:\n",
    "<center>\n",
    "<br \\><br \\>\n",
    "$J(\\Theta_0, \\Theta_1) = \\frac{1}{2m}\\sum_{i=1}^{m}{(y_i - h_\\Theta(x_i))}^2= \\frac{1}{2m}\\sum_{i=1}^{m}{(y_i - (\\Theta_0 + \\Theta_1x_i))}$\n",
    "<br \\><br \\>\n",
    "$\\frac{\\delta}{\\delta\\Theta_0}J(\\Theta_0, \\Theta_1) = - \\frac{1}{m}\\sum_{i=1}^{m}{(y_i - h_\\Theta(x_i))}$\n",
    "<br \\><br \\>\n",
    "$\\frac{\\delta}{\\delta\\Theta_1}J(\\Theta_0, \\Theta_1) = - \\frac{1}{m}\\sum_{i=1}^{m}{(y_i - h_\\Theta(x_i))x_i}$\n",
    "<br \\><br \\>\n",
    "</center>\n",
    "\n",
    "Arguments:\n",
    "<li>x - input data vector\n",
    "<li>y - output data (labels) vector\n",
    "<li>th0 - $\\Theta_0$ parameter\n",
    "<li>th1 - $\\Theta_1$ parameter\n",
    "<br \\>\n",
    "\n",
    "Function returns:\n",
    "<li>dTh0 - partial derivative $\\frac{\\delta}{\\delta\\Theta_0}J(\\Theta_0, \\Theta_1)$\n",
    "<li>dTh1 - partial derivative $\\frac{\\delta}{\\delta\\Theta_1}J(\\Theta_0, \\Theta_1)$\n",
    "<br \\><br \\>"
   ]
  },
  {
   "cell_type": "code",
   "execution_count": 0,
   "metadata": {
    "colab": {},
    "colab_type": "code",
    "id": "9X4QDsaT4Omc"
   },
   "outputs": [],
   "source": [
    "def compute_derivatives(x, y, th0, th1):\n",
    "    x = np.asarray(x) # It removes problems with older version of libraries\n",
    "    y = np.asarray(y) # It removes problems with older version of libraries\n",
    "    \n",
    "    # ENTER YOUR CODE HERE\n",
    "    h = th0 + th1*x\n",
    "    dTh0 = -np.mean(np.subtract(y,h))\n",
    "    dTh1 = -np.mean(np.subtract(y,h)*x)\n",
    "    \n",
    "    #END OF YOUR CODE\n",
    "    return dTh0, dTh1"
   ]
  },
  {
   "cell_type": "markdown",
   "metadata": {
    "colab_type": "text",
    "id": "qkSE5kVt4Omp"
   },
   "source": [
    "#### Task 4 - test code\n",
    "You may test your `compute_derivative` function with the code below. If everything is OK, the output will be:<br>\n",
    "**dTh0 seems to be OK.**<br>\n",
    "**dTh1 seems to be OK.**<br>"
   ]
  },
  {
   "cell_type": "code",
   "execution_count": 78,
   "metadata": {
    "colab": {
     "base_uri": "https://localhost:8080/",
     "height": 54
    },
    "colab_type": "code",
    "executionInfo": {
     "elapsed": 813,
     "status": "ok",
     "timestamp": 1585500764816,
     "user": {
      "displayName": "",
      "photoUrl": "",
      "userId": ""
     },
     "user_tz": -120
    },
    "id": "t-YzrZqO4Omv",
    "outputId": "eb297e7f-a82d-4ef4-e075-37868cef373c"
   },
   "outputs": [
    {
     "name": "stdout",
     "output_type": "stream",
     "text": [
      "dTh0 seems to be OK.\n",
      "dTh1 seems to be OK.\n"
     ]
    }
   ],
   "source": [
    "hlp.testcomputederivatives(compute_derivatives)"
   ]
  },
  {
   "cell_type": "markdown",
   "metadata": {
    "colab_type": "text",
    "id": "6vp90yQE4Om_"
   },
   "source": [
    "### Task 6 - updating theta\n",
    "Prepare the `update_theta` function, which updates the values of $\\Theta$ parameters according to the formulas:\n",
    "<center>\n",
    "<br \\><br \\>\n",
    "$\\Theta_0 = \\Theta_0 - \\alpha * \\frac{\\delta}{\\delta\\Theta_0}J(\\Theta_0, \\Theta_1)$\n",
    "<br \\><br \\>\n",
    "$\\Theta_1 = \\Theta_1 - \\alpha * \\frac{\\delta}{\\delta\\Theta_1}J(\\Theta_0, \\Theta_1)$\n",
    "<br \\><br \\>\n",
    "<br \\><br \\>\n",
    "</center>\n",
    "\n",
    "Arguments:\n",
    "<li>th0 - $\\Theta_0$ parameter\n",
    "<li>th1 - $\\Theta_1$ parameter\n",
    "<li>del0 - Partial derivative $\\frac{\\delta}{\\delta\\Theta_0}J(\\Theta_0, \\Theta_1)$\n",
    "<li>del1 - Partial derivative $\\frac{\\delta}{\\delta\\Theta_1}J(\\Theta_0, \\Theta_1)$\n",
    "<li>learning_rate - the learning rate $\\alpha$ parameter\n",
    "<br \\><br \\>\n",
    "Function returns:\n",
    "<li>Updated value of $\\Theta_0$\n",
    "<li>Updated value of $\\Theta_1$\n"
   ]
  },
  {
   "cell_type": "code",
   "execution_count": 0,
   "metadata": {
    "colab": {},
    "colab_type": "code",
    "id": "aIjUWeTT4OnE"
   },
   "outputs": [],
   "source": [
    "def update_theta(th0, th1, del0, del1, learning_rate):\n",
    "\n",
    "    # ENTER YOUR CODE HERE\n",
    "    \n",
    "    th0 = th0 - learning_rate * del0 \n",
    "    th1 = th1 - learning_rate * del1\n",
    "    \n",
    "    # END OF YOUR CODE\n",
    "    return th0, th1"
   ]
  },
  {
   "cell_type": "markdown",
   "metadata": {
    "colab_type": "text",
    "id": "8GslvAuE4OnN"
   },
   "source": [
    "#### Task 5 - test code\n",
    "You may test your `update_theta` function with the code below. If everything is OK, the output will be:<br>\n",
    "**theta0 seems to be OK.**<br>\n",
    "**theta1 seems to be OK.**<br>"
   ]
  },
  {
   "cell_type": "code",
   "execution_count": 137,
   "metadata": {
    "colab": {
     "base_uri": "https://localhost:8080/",
     "height": 54
    },
    "colab_type": "code",
    "executionInfo": {
     "elapsed": 892,
     "status": "ok",
     "timestamp": 1585501871177,
     "user": {
      "displayName": "",
      "photoUrl": "",
      "userId": ""
     },
     "user_tz": -120
    },
    "id": "u6JVtHEe4OnO",
    "outputId": "7ed46f8f-ee35-4606-bce3-496603ccbee4"
   },
   "outputs": [
    {
     "name": "stdout",
     "output_type": "stream",
     "text": [
      "theta0 seems to be OK.\n",
      "theta1 seems to be OK.\n"
     ]
    }
   ],
   "source": [
    "hlp.testupdatetheta(update_theta)"
   ]
  },
  {
   "cell_type": "markdown",
   "metadata": {
    "colab_type": "text",
    "id": "a2UGMCcg4One"
   },
   "source": [
    "### Task 7 - learning parameters\n",
    "Tune the learning parameters and run the code below. This code will perform entire machine learning, using the functions you prepared in previous tasks.<br>\n",
    "The parameters are as follows:\n",
    "<ul>\n",
    "    <li>learning_rate - $\\alpha$ - learning coefficient. The greater $\\alpha$ the larger change of $\\Theta$ values in each iteration.\n",
    "    <li>epochs - how many times we should repeat the iterations\n",
    "</ul>\n",
    "<br \\><br \\>\n",
    "Additional parameter:\n",
    "<ul>\n",
    "<li>display_every - how often should we display the $\\Theta$ and cost values. This parameter does not play any role in learning process, it is only for observations. The value <code> display_every = int(epochs / 20) </code> is reasonable, but you may change it if you wish.\n",
    "</ul>\n",
    "    \n",
    "    \n",
    "*Note: The results for this part may differ because they depend on your parameters. To pass you need to push your cost below 15000. The optimal results are:*<br>\n",
    "<li>$\\Theta_0$ = 352.40171716\n",
    "<li>$\\Theta_1$ = -17.49921637\n",
    "<li>$J(\\Theta_0, \\Theta_1)$ = 14725.144411377056\n",
    "    \n",
    "**WARNING: It is almost impossible to get the optimal parameters with this algorithm. If your cost $J(\\Theta_0, \\Theta_1)$ is below 14800 it means you did very well. If your cost is below 14730 you are perfect :)**\n",
    "    \n",
    "    "
   ]
  },
  {
   "cell_type": "code",
   "execution_count": 201,
   "metadata": {
    "colab": {
     "base_uri": "https://localhost:8080/",
     "height": 681
    },
    "colab_type": "code",
    "executionInfo": {
     "elapsed": 1551,
     "status": "ok",
     "timestamp": 1585502539176,
     "user": {
      "displayName": "",
      "photoUrl": "",
      "userId": ""
     },
     "user_tz": -120
    },
    "id": "ATKlvrC74Ong",
    "outputId": "f739cf00-35d2-46dc-cb2c-8e520da31b65"
   },
   "outputs": [
    {
     "name": "stdout",
     "output_type": "stream",
     "text": [
      "Iteration 0, Theta 0: -0.32, Theta 1: -21.67, Cost: 153248.18\n",
      "Iteration 1250, Theta 0: 92.19, Theta 1: -13.38, Cost: 24004.18\n",
      "Iteration 2500, Theta 0: 160.35, Theta 1: -13.93, Cost: 19426.01\n",
      "Iteration 3750, Theta 0: 210.65, Theta 1: -14.83, Cost: 17284.23\n",
      "Iteration 5000, Theta 0: 247.78, Theta 1: -15.53, Cost: 16119.29\n",
      "Iteration 6250, Theta 0: 275.18, Theta 1: -16.04, Cost: 15484.66\n",
      "Iteration 7500, Theta 0: 295.40, Theta 1: -16.42, Cost: 15138.92\n",
      "Iteration 8750, Theta 0: 310.33, Theta 1: -16.71, Cost: 14950.56\n",
      "Iteration 10000, Theta 0: 321.35, Theta 1: -16.91, Cost: 14847.95\n",
      "Iteration 11250, Theta 0: 329.48, Theta 1: -17.07, Cost: 14792.05\n",
      "Iteration 12500, Theta 0: 335.48, Theta 1: -17.18, Cost: 14761.59\n",
      "Iteration 13750, Theta 0: 339.92, Theta 1: -17.26, Cost: 14745.00\n",
      "Iteration 15000, Theta 0: 343.19, Theta 1: -17.33, Cost: 14735.96\n",
      "Iteration 16250, Theta 0: 345.60, Theta 1: -17.37, Cost: 14731.04\n",
      "Iteration 17500, Theta 0: 347.38, Theta 1: -17.40, Cost: 14728.36\n",
      "Iteration 18750, Theta 0: 348.70, Theta 1: -17.43, Cost: 14726.89\n",
      "Iteration 20000, Theta 0: 349.67, Theta 1: -17.45, Cost: 14726.10\n",
      "Iteration 21250, Theta 0: 350.38, Theta 1: -17.46, Cost: 14725.66\n",
      "Iteration 22500, Theta 0: 350.91, Theta 1: -17.47, Cost: 14725.43\n",
      "Iteration 23750, Theta 0: 351.30, Theta 1: -17.48, Cost: 14725.30\n",
      "Iteration 24999, Theta 0: 351.59, Theta 1: -17.48, Cost: 14725.23\n"
     ]
    },
    {
     "data": {
      "image/png": "[encoded data removed]",
      "text/plain": [
       "<Figure size 432x288 with 1 Axes>"
      ]
     },
     "metadata": {
      "tags": []
     },
     "output_type": "display_data"
    }
   ],
   "source": [
    "learning_rate = 0.000954 # ENTER YOUR CODE HERE (Tune this parameter)\n",
    "epochs = 25000 # ENTER YOUR CODE HERE (Tune this parameter)\n",
    "\n",
    "display_every = int(epochs / 20)\n",
    "\n",
    "th0 = 0 #The initial th0 value\n",
    "th1 = 0 #The initial th1 value\n",
    "\n",
    "cost_list = [] # we will use this list to plot the cost function chart\n",
    "iter_list = [] # we will use this list to plot the cost function chart\n",
    "\n",
    "for i in range(epochs):\n",
    "    #Learning process. With your functions the entire learning code is only 2 lines\n",
    "    del0, del1 = compute_derivatives(x, y, th0, th1)\n",
    "    th0, th1 = update_theta(th0, th1, del0, del1, learning_rate)\n",
    "    \n",
    "    #This code is used only for displaying results. You do not need to understand it\n",
    "    if ((i%display_every) == 0) | (i == epochs-1):\n",
    "        curr_cost = cost(y, compute_h(x, th0, th1))\n",
    "        cost_list.append(curr_cost)\n",
    "        iter_list.append(i)\n",
    "        print('Iteration {}, Theta 0: {:.2f}, Theta 1: {:.2f}, Cost: {:.2f}'\n",
    "              .format(i, th0, th1, curr_cost))\n",
    "\n",
    "        \n",
    "#This code is used only for displaying results. You do not need to understand it\n",
    "f = plt.figure()\n",
    "plt.plot(iter_list, cost_list)\n",
    "plt.title(\"Cost function\")\n",
    "plt.xlabel('Iteration')\n",
    "plt.ylabel('Cost');"
   ]
  },
  {
   "cell_type": "markdown",
   "metadata": {
    "colab_type": "text",
    "id": "xRYAa2T34Onq"
   },
   "source": [
    "You may use the code below to present your results on the chart"
   ]
  },
  {
   "cell_type": "code",
   "execution_count": 202,
   "metadata": {
    "colab": {
     "base_uri": "https://localhost:8080/",
     "height": 368
    },
    "colab_type": "code",
    "executionInfo": {
     "elapsed": 1098,
     "status": "ok",
     "timestamp": 1585502574685,
     "user": {
      "displayName": "",
      "photoUrl": "",
      "userId": ""
     },
     "user_tz": -120
    },
    "id": "mFNxSp034Ons",
    "outputId": "cf9ecbab-27c3-416b-cfa2-88f44a6292dc"
   },
   "outputs": [
    {
     "name": "stdout",
     "output_type": "stream",
     "text": [
      "\n",
      "Your results:\n",
      "h(x) = 351.59 + x*-17.48\n",
      "Cost = 14725.23\n"
     ]
    },
    {
     "data": {
      "image/png": "[encoded data removed]",
      "text/plain": [
       "<Figure size 432x288 with 1 Axes>"
      ]
     },
     "metadata": {
      "tags": []
     },
     "output_type": "display_data"
    }
   ],
   "source": [
    "print('\\nYour results:')\n",
    "print ('h(x) = {:.2f} + x*{:.2f}'.format(th0, th1))\n",
    "print('Cost = {:.2f}'.format(cost(y, compute_h(x, th0, th1))))\n",
    "\n",
    "hlp.plot_fitting_lin(x, y, th0, th1);"
   ]
  },
  {
   "cell_type": "markdown",
   "metadata": {
    "colab_type": "text",
    "id": "adF4wf_h4On1"
   },
   "source": [
    "### Question 1\n",
    "Compare the 'manual' results with the 'gradient descent' results using the code below. Which results are better:"
   ]
  },
  {
   "cell_type": "code",
   "execution_count": 203,
   "metadata": {
    "colab": {
     "base_uri": "https://localhost:8080/",
     "height": 182
    },
    "colab_type": "code",
    "executionInfo": {
     "elapsed": 814,
     "status": "ok",
     "timestamp": 1585502581029,
     "user": {
      "displayName": "",
      "photoUrl": "",
      "userId": ""
     },
     "user_tz": -120
    },
    "id": "o2uLiiKr4On3",
    "outputId": "524c9772-2380-4dfc-824c-5f2e8541e972"
   },
   "outputs": [
    {
     "name": "stdout",
     "output_type": "stream",
     "text": [
      "The gradient descent results:\n",
      "h(x) = 351.59 + x*-17.48\n",
      "Cost = 14725.23\n",
      "\n",
      "The manual results:\n",
      "h(x) = 400.00 + x*-18.00\n",
      "Cost = 15178.91\n",
      "\n",
      "\n"
     ]
    }
   ],
   "source": [
    "print('The gradient descent results:')\n",
    "print ('h(x) = {:.2f} + x*{:.2f}'.format(th0, th1))\n",
    "print('Cost = {:.2f}'.format(cost(y, compute_h(x, th0, th1))))\n",
    "\n",
    "print('\\nThe manual results:')\n",
    "print ('h(x) = {:.2f} + x*{:.2f}'.format(my_th0, my_th1))\n",
    "print('Cost = {:.2f}'.format(cost(y, compute_h(x, my_th0, my_th1))))\n",
    "print('\\n')\n"
   ]
  },
  {
   "cell_type": "markdown",
   "metadata": {
    "colab_type": "text",
    "collapsed": true,
    "id": "mtYGlPS54On9"
   },
   "source": [
    "**ENTER YOUR ANSWER HERE:**\n",
    "\n"
   ]
  },
  {
   "cell_type": "code",
   "execution_count": 0,
   "metadata": {
    "colab": {},
    "colab_type": "code",
    "id": "zVLPxZ7YUmgp"
   },
   "outputs": [],
   "source": [
    "#gradient descent results\n"
   ]
  },
  {
   "cell_type": "code",
   "execution_count": 0,
   "metadata": {
    "colab": {},
    "colab_type": "code",
    "id": "t7tIWm1XU7oX"
   },
   "outputs": [],
   "source": []
  }
 ],
 "metadata": {
  "colab": {
   "name": "Copy of Linear_Regression.ipynb",
   "provenance": [
    {
     "file_id": "https://github.com/PrzemekSekula/DeepLearningClasses1/blob/master/LinearRegression/Linear_Regression.ipynb",
     "timestamp": 1585502755193
    }
   ]
  },
  "kernelspec": {
   "display_name": "Python 3",
   "language": "python",
   "name": "python3"
  },
  "language_info": {
   "codemirror_mode": {
    "name": "ipython",
    "version": 3
   },
   "file_extension": ".py",
   "mimetype": "text/x-python",
   "name": "python",
   "nbconvert_exporter": "python",
   "pygments_lexer": "ipython3",
   "version": "3.7.4"
  }
 },
 "nbformat": 4,
 "nbformat_minor": 1
}
